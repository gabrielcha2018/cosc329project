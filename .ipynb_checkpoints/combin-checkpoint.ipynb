{
 "cells": [
  {
   "cell_type": "code",
   "execution_count": 62,
   "id": "3b74f799-d8c3-4041-b761-d39cb5b690c9",
   "metadata": {},
   "outputs": [],
   "source": [
    "### combing alll the file together"
   ]
  },
  {
   "cell_type": "code",
   "execution_count": null,
   "id": "fee9fec8-7eba-4afc-911a-8a368806acc3",
   "metadata": {},
   "outputs": [],
   "source": [
    "import pandas as pd\n",
    "import glob\n",
    "\n",
    "all_data = pd.DataFrame()\n",
    "allfiles = glob.glob( \"roughdata/*.csv\" )\n",
    "\n",
    "for f in allfiles:\n",
    "    df = pd.read_csv(f)\n",
    "    all_data = all_data.append(df,ignore_index=True)    \n",
    "\n",
    "#all_data.to_csv(\"all_with_title.csv\",index=False) \n",
    "\n",
    "new=all_data.drop(columns=['Title'])\n",
    "\n",
    "new.to_csv(\"all_no_title.csv\",index=False) \n",
    "\n",
    "print('done')\n",
    "\n",
    "### next move to findskill"
   ]
  }
 ],
 "metadata": {
  "kernelspec": {
   "display_name": "Python 3 (ipykernel)",
   "language": "python",
   "name": "python3"
  },
  "language_info": {
   "codemirror_mode": {
    "name": "ipython",
    "version": 3
   },
   "file_extension": ".py",
   "mimetype": "text/x-python",
   "name": "python",
   "nbconvert_exporter": "python",
   "pygments_lexer": "ipython3",
   "version": "3.9.7"
  }
 },
 "nbformat": 4,
 "nbformat_minor": 5
}
