{
 "cells": [
  {
   "cell_type": "code",
   "execution_count": 62,
   "id": "3b74f799-d8c3-4041-b761-d39cb5b690c9",
   "metadata": {},
   "outputs": [],
   "source": [
    "### combing alll the file together"
   ]
  },
  {
   "cell_type": "code",
   "execution_count": 12,
   "id": "fee9fec8-7eba-4afc-911a-8a368806acc3",
   "metadata": {},
   "outputs": [
    {
     "name": "stdout",
     "output_type": "stream",
     "text": [
      "done\n"
     ]
    },
    {
     "data": {
      "text/html": [
       "<div>\n",
       "<style scoped>\n",
       "    .dataframe tbody tr th:only-of-type {\n",
       "        vertical-align: middle;\n",
       "    }\n",
       "\n",
       "    .dataframe tbody tr th {\n",
       "        vertical-align: top;\n",
       "    }\n",
       "\n",
       "    .dataframe thead th {\n",
       "        text-align: right;\n",
       "    }\n",
       "</style>\n",
       "<table border=\"1\" class=\"dataframe\">\n",
       "  <thead>\n",
       "    <tr style=\"text-align: right;\">\n",
       "      <th></th>\n",
       "      <th>Description</th>\n",
       "    </tr>\n",
       "  </thead>\n",
       "  <tbody>\n",
       "    <tr>\n",
       "      <th>0</th>\n",
       "      <td>About Us\\nMeet the together-travel company. La...</td>\n",
       "    </tr>\n",
       "    <tr>\n",
       "      <th>1</th>\n",
       "      <td>Company description\\nSince 2009 Canadian Solar...</td>\n",
       "    </tr>\n",
       "    <tr>\n",
       "      <th>2</th>\n",
       "      <td>or equivalent experience\\nArea of Specializati...</td>\n",
       "    </tr>\n",
       "    <tr>\n",
       "      <th>3</th>\n",
       "      <td>What is the role?\\nAs a\\nDigital Account Strat...</td>\n",
       "    </tr>\n",
       "    <tr>\n",
       "      <th>4</th>\n",
       "      <td>or equivalent experience\\nBusiness Equipment a...</td>\n",
       "    </tr>\n",
       "    <tr>\n",
       "      <th>...</th>\n",
       "      <td>...</td>\n",
       "    </tr>\n",
       "    <tr>\n",
       "      <th>13995</th>\n",
       "      <td>Game Hive is building a new generation of casu...</td>\n",
       "    </tr>\n",
       "    <tr>\n",
       "      <th>13996</th>\n",
       "      <td>Business Equipment and Computer Applications\\n...</td>\n",
       "    </tr>\n",
       "    <tr>\n",
       "      <th>13997</th>\n",
       "      <td>Specific Skills\\nWrite, modify, integrate and ...</td>\n",
       "    </tr>\n",
       "    <tr>\n",
       "      <th>13998</th>\n",
       "      <td>Computer Technology/Computer Systems Technolog...</td>\n",
       "    </tr>\n",
       "    <tr>\n",
       "      <th>13999</th>\n",
       "      <td>or equivalent experience\\nBusiness Equipment a...</td>\n",
       "    </tr>\n",
       "  </tbody>\n",
       "</table>\n",
       "<p>14000 rows × 1 columns</p>\n",
       "</div>"
      ],
      "text/plain": [
       "                                             Description\n",
       "0      About Us\\nMeet the together-travel company. La...\n",
       "1      Company description\\nSince 2009 Canadian Solar...\n",
       "2      or equivalent experience\\nArea of Specializati...\n",
       "3      What is the role?\\nAs a\\nDigital Account Strat...\n",
       "4      or equivalent experience\\nBusiness Equipment a...\n",
       "...                                                  ...\n",
       "13995  Game Hive is building a new generation of casu...\n",
       "13996  Business Equipment and Computer Applications\\n...\n",
       "13997  Specific Skills\\nWrite, modify, integrate and ...\n",
       "13998  Computer Technology/Computer Systems Technolog...\n",
       "13999  or equivalent experience\\nBusiness Equipment a...\n",
       "\n",
       "[14000 rows x 1 columns]"
      ]
     },
     "execution_count": 12,
     "metadata": {},
     "output_type": "execute_result"
    }
   ],
   "source": [
    "import pandas as pd\n",
    "import glob\n",
    "\n",
    "all_data = pd.DataFrame()\n",
    "allfiles = glob.glob( \"roughdata/roughdata/*.csv\" )\n",
    "\n",
    "for f in allfiles:\n",
    "    df = pd.read_csv(f)\n",
    "    all_data = all_data.append(df,ignore_index=True)    \n",
    "\n",
    "\n",
    "all_data.drop(columns=['Title'],inplace=True)\n",
    "all_data.drop(columns=['Unnamed: 0'],inplace=True)\n",
    "\n",
    "all_data.to_csv(\"all_no_title.csv\",index=False) \n",
    "\n",
    "print('done')\n",
    "\n",
    "### next move to findskill\n",
    "all_data"
   ]
  },
  {
   "cell_type": "code",
   "execution_count": null,
   "id": "80aceee7-22d8-4075-bfe7-e91be69de5bf",
   "metadata": {},
   "outputs": [],
   "source": []
  },
  {
   "cell_type": "code",
   "execution_count": null,
   "id": "8e5111d3-fd02-452b-8e58-1d93a47effe0",
   "metadata": {},
   "outputs": [],
   "source": []
  }
 ],
 "metadata": {
  "kernelspec": {
   "display_name": "Python 3 (ipykernel)",
   "language": "python",
   "name": "python3"
  },
  "language_info": {
   "codemirror_mode": {
    "name": "ipython",
    "version": 3
   },
   "file_extension": ".py",
   "mimetype": "text/x-python",
   "name": "python",
   "nbconvert_exporter": "python",
   "pygments_lexer": "ipython3",
   "version": "3.9.7"
  }
 },
 "nbformat": 4,
 "nbformat_minor": 5
}
