{
 "cells": [
  {
   "cell_type": "markdown",
   "id": "2c97ed71-0b32-4f31-a497-7e7cfced6329",
   "metadata": {},
   "source": [
    "# draft of skill\n",
    "### preprocessing list of skill, remove the empty row, dulipate row \n",
    "### skill is taking from below Reference \n",
    "#### https://resumegenius.com/blog/resume-help/hard-skills\n",
    "#### https://novoresume.com/career-blog/most-important-skills-to-put-on-your-resume                   "
   ]
  },
  {
   "cell_type": "code",
   "execution_count": 1,
   "id": "8c9b3856-0353-4929-87d7-23dac2f597cc",
   "metadata": {},
   "outputs": [],
   "source": [
    "import pandas as pd\n",
    "from nltk.stem import PorterStemmer\n",
    "from nltk.tokenize import sent_tokenize, word_tokenize\n",
    "ps = PorterStemmer()\n",
    "skill=pd.read_csv('draftskill/skill.csv')  "
   ]
  },
  {
   "cell_type": "code",
   "execution_count": 2,
   "id": "6217f258-d003-4964-b6ec-349fe29efbec",
   "metadata": {},
   "outputs": [],
   "source": [
    "#delete the empty row\n",
    "skill.dropna(inplace=True)\n",
    "#delete the repeated row\n",
    "skill.drop_duplicates(keep=\"first\",inplace=True)"
   ]
  },
  {
   "cell_type": "code",
   "execution_count": 3,
   "id": "434ba46f-1633-461d-a00b-a296b7af58e4",
   "metadata": {},
   "outputs": [
    {
     "data": {
      "text/html": [
       "<div>\n",
       "<style scoped>\n",
       "    .dataframe tbody tr th:only-of-type {\n",
       "        vertical-align: middle;\n",
       "    }\n",
       "\n",
       "    .dataframe tbody tr th {\n",
       "        vertical-align: top;\n",
       "    }\n",
       "\n",
       "    .dataframe thead th {\n",
       "        text-align: right;\n",
       "    }\n",
       "</style>\n",
       "<table border=\"1\" class=\"dataframe\">\n",
       "  <thead>\n",
       "    <tr style=\"text-align: right;\">\n",
       "      <th></th>\n",
       "      <th>list of skill</th>\n",
       "    </tr>\n",
       "  </thead>\n",
       "  <tbody>\n",
       "    <tr>\n",
       "      <th>0</th>\n",
       "      <td>ei</td>\n",
       "    </tr>\n",
       "    <tr>\n",
       "      <th>1</th>\n",
       "      <td>time management</td>\n",
       "    </tr>\n",
       "    <tr>\n",
       "      <th>2</th>\n",
       "      <td>effective communication</td>\n",
       "    </tr>\n",
       "    <tr>\n",
       "      <th>3</th>\n",
       "      <td>emotional intelligence</td>\n",
       "    </tr>\n",
       "    <tr>\n",
       "      <th>4</th>\n",
       "      <td>conflict management</td>\n",
       "    </tr>\n",
       "    <tr>\n",
       "      <th>...</th>\n",
       "      <td>...</td>\n",
       "    </tr>\n",
       "    <tr>\n",
       "      <th>202</th>\n",
       "      <td>cryptography</td>\n",
       "    </tr>\n",
       "    <tr>\n",
       "      <th>204</th>\n",
       "      <td>c++</td>\n",
       "    </tr>\n",
       "    <tr>\n",
       "      <th>205</th>\n",
       "      <td>java</td>\n",
       "    </tr>\n",
       "    <tr>\n",
       "      <th>206</th>\n",
       "      <td>jquery</td>\n",
       "    </tr>\n",
       "    <tr>\n",
       "      <th>207</th>\n",
       "      <td>python</td>\n",
       "    </tr>\n",
       "  </tbody>\n",
       "</table>\n",
       "<p>179 rows × 1 columns</p>\n",
       "</div>"
      ],
      "text/plain": [
       "               list of skill\n",
       "0                         ei\n",
       "1            time management\n",
       "2    effective communication\n",
       "3     emotional intelligence\n",
       "4        conflict management\n",
       "..                       ...\n",
       "202             cryptography\n",
       "204                      c++\n",
       "205                     java\n",
       "206                   jquery\n",
       "207                   python\n",
       "\n",
       "[179 rows x 1 columns]"
      ]
     },
     "execution_count": 3,
     "metadata": {},
     "output_type": "execute_result"
    }
   ],
   "source": [
    "skill"
   ]
  },
  {
   "cell_type": "markdown",
   "id": "fbe17533-a7f6-4c47-9299-69bb3d8a1543",
   "metadata": {},
   "source": [
    "# catorgory the draft of skill\n",
    "### above contain 179 rows\n",
    "### since some skills have different word length,catgory skill in different word length. \n",
    "### below code help us to get one word length skills, two words length and three words length skills"
   ]
  },
  {
   "cell_type": "code",
   "execution_count": 4,
   "id": "24dd0452-8025-4bdb-bf6c-f7855fcbdb06",
   "metadata": {},
   "outputs": [],
   "source": [
    "#create the set \n",
    "allof={\"0\"}\n",
    "# replace the white space as ### in dataframe, and save it in the set\n",
    "for i in skill['list of skill']:\n",
    "    allof.add(i.replace(\" \", \"###\"))\n",
    "allof.remove(\"0\")"
   ]
  },
  {
   "cell_type": "code",
   "execution_count": 5,
   "id": "32e11bc6-952a-4185-b5dd-bbbe3ec9c797",
   "metadata": {},
   "outputs": [],
   "source": [
    "#the set: \"single\" keeping one word skill\n",
    "# mulltiple1 : keeping the reset, including two/three word skill\n",
    "single={\"1\"}\n",
    "multiple1={\"2\"}\n",
    "for i in allof:\n",
    "    if \"###\" not in i: \n",
    "        single.add(i)\n",
    "    else:\n",
    "        multiple1.add(i)\n",
    "single.remove(\"1\")\n",
    "multiple1.remove(\"2\")"
   ]
  },
  {
   "cell_type": "code",
   "execution_count": 6,
   "id": "a6b383dc-4c23-4c41-8314-aca9ac48add9",
   "metadata": {},
   "outputs": [],
   "source": [
    "# seperate two/three word skill into difference set. a contain two word skill, b contain three word skill\n",
    "a={\"1\"}\n",
    "b={\"2\"}\n",
    "for i in multiple1:\n",
    "     if(len(i)<25):# this length is based on the obseration of the data set\n",
    "        a.add(i.replace(\"###\", \" \"))\n",
    "     else:\n",
    "        b.add(i.replace(\"###\", \" \"))\n",
    "        \n",
    "a.remove(\"1\")\n",
    "b.remove(\"2\")"
   ]
  },
  {
   "cell_type": "code",
   "execution_count": 7,
   "id": "dbde8454-4178-479c-9e53-727bd4909791",
   "metadata": {},
   "outputs": [],
   "source": [
    "# some item has been catorgry by mistaking, fixing it after observation of the data\n",
    "a.remove('attention to detail')\n",
    "a.remove('ios app development')\n",
    "b.add('attention to detail')\n",
    "b.add('ios app development')\n",
    "b.remove('computer troubleshooting')\n",
    "b.remove('effective communication')\n",
    "b.remove('networking communication')\n",
    "a.add('computer troubleshooting')\n",
    "a.add('effective communication')\n",
    "a.add('networking communication')"
   ]
  },
  {
   "cell_type": "code",
   "execution_count": 8,
   "id": "d87c19da-b763-4520-a77d-3724ee7db98a",
   "metadata": {},
   "outputs": [
    {
     "data": {
      "text/plain": [
       "179"
      ]
     },
     "execution_count": 8,
     "metadata": {},
     "output_type": "execute_result"
    }
   ],
   "source": [
    "# below len matching the length of our list of skill\n",
    "len(single)+len(a)+len(b)"
   ]
  },
  {
   "cell_type": "markdown",
   "id": "64677b0b-71d8-4de8-a97d-b8d581f95025",
   "metadata": {},
   "source": [
    "### Draft of skill, become: (single:n=1 gram).... (a:bigram)........( b: n=3 gram). \n",
    "### we will generate the n=1-3 gram of our data get from indeed. and counting term fruency base on our draft of skill\n",
    "### these three kinds of grams we got it work like a fliter, we will then keep the the skill which frequency is bigger than 0 in the skill set. \n",
    "### adding some higher frequncy item from our srape data in draft skill \n",
    "### after that our draft skill might become the set of skill that require when getting a job"
   ]
  },
  {
   "cell_type": "code",
   "execution_count": 9,
   "id": "e5d1543d-8cd8-49bd-85ee-207b4c3109f7",
   "metadata": {},
   "outputs": [],
   "source": [
    "#single"
   ]
  },
  {
   "cell_type": "code",
   "execution_count": 10,
   "id": "464ff70f-44a4-4751-9906-e5c91a825b9f",
   "metadata": {},
   "outputs": [],
   "source": [
    "#a"
   ]
  },
  {
   "cell_type": "code",
   "execution_count": 11,
   "id": "da1708f3-e6b8-415b-87c8-09371f1eaceb",
   "metadata": {},
   "outputs": [],
   "source": [
    "#b"
   ]
  },
  {
   "cell_type": "code",
   "execution_count": 12,
   "id": "56e72519-b2ea-42b6-99cb-9e37c02abcd3",
   "metadata": {},
   "outputs": [],
   "source": [
    "s1 = list(single)\n",
    "df1=pd.DataFrame(s1)\n",
    "\n",
    "s2 = list(a)\n",
    "df2=pd.DataFrame(s2)\n",
    "\n",
    "s3 = list(b)\n",
    "df3=pd.DataFrame(s3)"
   ]
  },
  {
   "cell_type": "code",
   "execution_count": 13,
   "id": "1ebe548f-32de-4ad6-9f92-9c6f8b64da8f",
   "metadata": {},
   "outputs": [],
   "source": [
    "# before stemmer\n",
    "df1.to_csv('skillset/skill_len_1.csv', index=False) \n",
    "df2.to_csv('skillset/skill_len_2.csv', index=False) \n",
    "df3.to_csv('skillset/skill_len_3.csv', index=False) "
   ]
  },
  {
   "cell_type": "code",
   "execution_count": 14,
   "id": "302526ea-da67-4bd2-af46-3afe6bf5f181",
   "metadata": {},
   "outputs": [],
   "source": [
    "#after stemmering"
   ]
  },
  {
   "cell_type": "code",
   "execution_count": 15,
   "id": "bb080ed7-c200-40bb-8c16-40d83944f02b",
   "metadata": {},
   "outputs": [],
   "source": [
    "for i in range(0,len(s1)):\n",
    "    s1[i]=ps.stem(s1[i])\n",
    "    \n",
    "df4=pd.DataFrame(s1)  "
   ]
  },
  {
   "cell_type": "code",
   "execution_count": 16,
   "id": "3ba0440b-e8bd-4546-ac17-ec0d3c452d0d",
   "metadata": {},
   "outputs": [],
   "source": [
    "for i in range(0,len(s2)):\n",
    "    s2[i]=ps.stem(s2[i])\n",
    "df5=pd.DataFrame(s2)   "
   ]
  },
  {
   "cell_type": "code",
   "execution_count": 17,
   "id": "d9583215-b77a-413f-b6dd-46563eb94f27",
   "metadata": {},
   "outputs": [],
   "source": [
    "for i in range(0,len(s3)):\n",
    "    s3[i]=ps.stem(s3[i])\n",
    "df6=pd.DataFrame(s3)   "
   ]
  },
  {
   "cell_type": "code",
   "execution_count": 18,
   "id": "65a4e532-6b41-4a40-8c5c-e009dc9be3b5",
   "metadata": {},
   "outputs": [
    {
     "name": "stdout",
     "output_type": "stream",
     "text": [
      "done\n"
     ]
    }
   ],
   "source": [
    "# before stemmer\n",
    "df4.to_csv('skillset/ste_len_1.csv', index=False) \n",
    "df5.to_csv('skillset/ste_len_2.csv', index=False) \n",
    "df6.to_csv('skillset/ste_len_3.csv', index=False) \n",
    "print(\"done\")"
   ]
  },
  {
   "cell_type": "code",
   "execution_count": null,
   "id": "4b0977c7-821a-44b6-add6-f57231cd9ff9",
   "metadata": {},
   "outputs": [],
   "source": [
    "### next move back to findskill"
   ]
  }
 ],
 "metadata": {
  "kernelspec": {
   "display_name": "Python 3 (ipykernel)",
   "language": "python",
   "name": "python3"
  },
  "language_info": {
   "codemirror_mode": {
    "name": "ipython",
    "version": 3
   },
   "file_extension": ".py",
   "mimetype": "text/x-python",
   "name": "python",
   "nbconvert_exporter": "python",
   "pygments_lexer": "ipython3",
   "version": "3.9.7"
  }
 },
 "nbformat": 4,
 "nbformat_minor": 5
}
