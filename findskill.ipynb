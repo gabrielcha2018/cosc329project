{
 "cells": [
  {
   "cell_type": "markdown",
   "id": "6f7fa102-be25-4ec5-aece-a175cc8b8952",
   "metadata": {},
   "source": [
    "## following code is helping us to remove some predefine skill from our draft skill set. secondly, it might help us to add some skills that have high frequency to extend the draft skill. finally, it help us to find out which one is most popular skill\n",
    "### handling the job description without job title"
   ]
  },
  {
   "cell_type": "code",
   "execution_count": 2,
   "id": "cbeee9e8-fa4e-47f9-af4b-f3e76223f854",
   "metadata": {},
   "outputs": [
    {
     "name": "stderr",
     "output_type": "stream",
     "text": [
      "[nltk_data] Downloading package punkt to\n",
      "[nltk_data]     C:\\Users\\hecheng\\AppData\\Roaming\\nltk_data...\n",
      "[nltk_data]   Package punkt is already up-to-date!\n",
      "[nltk_data] Downloading package stopwords to\n",
      "[nltk_data]     C:\\Users\\hecheng\\AppData\\Roaming\\nltk_data...\n",
      "[nltk_data]   Package stopwords is already up-to-date!\n"
     ]
    },
    {
     "name": "stdout",
     "output_type": "stream",
     "text": [
      "done\n"
     ]
    }
   ],
   "source": [
    "import re\n",
    "#import numpy as np\n",
    "import nltk\n",
    "nltk.download('punkt')\n",
    "nltk.download('stopwords')\n",
    "from nltk.corpus import stopwords\n",
    "from nltk.tokenize import word_tokenize\n",
    "stopWord = set(stopwords.words('english'))\n",
    "from nltk.stem import PorterStemmer\n",
    "ps = PorterStemmer()\n",
    "infile = open('all_no_title.csv', 'r', encoding='utf-8')\n",
    "stemmedDoc = []\n",
    "for line in infile:\n",
    "    #put every character into lower case\n",
    "    line = line.lower()\n",
    "     # only keeing the word characters ,which means also removing the punctctation and non-word characters\n",
    "    line = re.sub( r'[^a-z\\n ]', ' ', line )\n",
    "    #remove stop word\n",
    "    word = word_tokenize(line)\n",
    "    sentenceWithoutStopWord = [w for w in word if not w in stopWord]\n",
    "    sentenceStemmed = []\n",
    "    for word in sentenceWithoutStopWord:   \n",
    "        word = ps.stem(word)\n",
    "        if len(word) >= 3:\n",
    "            sentenceStemmed.append(word)\n",
    "    sentenceStemmed = (\" \").join(sentenceStemmed)\n",
    "    stemmedDoc.append(sentenceStemmed)\n",
    "    \n",
    "#print(stemmedDoc)\n",
    "#freq = nltk.FreqDist(stemmedDoc)\n",
    "#for key,val in freq.items():\n",
    "    #print(str(key) + ':' + str(val))\n",
    "#freq.plot(20, cumulative=False)\n",
    "    \n",
    "infile.close()\n",
    "print(\"done\")"
   ]
  },
  {
   "cell_type": "markdown",
   "id": "bed1954f-6452-4b3e-bc9e-7372864a591a",
   "metadata": {},
   "source": [
    "### put all the job description in to one string"
   ]
  },
  {
   "cell_type": "code",
   "execution_count": 3,
   "id": "03cbd512-21ca-4a26-b87a-7fea877c3115",
   "metadata": {},
   "outputs": [],
   "source": [
    "string =\" \"\n",
    "string =' '.join(stemmedDoc)"
   ]
  },
  {
   "cell_type": "code",
   "execution_count": 4,
   "id": "3e0a3d3a-08b0-40bf-8f63-df024f201626",
   "metadata": {},
   "outputs": [
    {
     "data": {
      "text/plain": [
       "11924479"
      ]
     },
     "execution_count": 4,
     "metadata": {},
     "output_type": "execute_result"
    }
   ],
   "source": [
    "len(string)"
   ]
  },
  {
   "cell_type": "code",
   "execution_count": 5,
   "id": "314d69d8-0806-4f8c-87d4-b969b48fe9b7",
   "metadata": {},
   "outputs": [],
   "source": [
    "#string"
   ]
  },
  {
   "cell_type": "markdown",
   "id": "e5ebf988-9cf0-4590-9373-7019f2be0679",
   "metadata": {},
   "source": [
    "### convert this whole string, into n=1 gram, n=2 gram, n =3 gram, this one will generate list\n",
    "### after that convert into set to remove some dupliate"
   ]
  },
  {
   "cell_type": "code",
   "execution_count": 6,
   "id": "49a1da0b-a1aa-4431-8419-0b25cbcfff03",
   "metadata": {},
   "outputs": [],
   "source": [
    "from nltk.util import ngrams\n",
    "def get_ngrams(text, n ):\n",
    "    n_grams = ngrams(word_tokenize(text), n)\n",
    "    return [ ' '.join(grams) for grams in n_grams]\n",
    "\n",
    "n1gram=get_ngrams(string, 1 )\n",
    "n2gram=get_ngrams(string, 2 )\n",
    "n3gram=get_ngrams(string, 3 )"
   ]
  },
  {
   "cell_type": "code",
   "execution_count": 7,
   "id": "61f485ca-b394-4449-8d2e-a0d9697bfd39",
   "metadata": {},
   "outputs": [],
   "source": [
    "n1=set(n1gram)\n",
    "n2=set(n2gram)\n",
    "n3=set(n3gram)"
   ]
  },
  {
   "cell_type": "code",
   "execution_count": null,
   "id": "788dd101-c35f-4d7e-85b7-14ed93f11189",
   "metadata": {},
   "outputs": [],
   "source": [
    "### next move to draftofskill, the document is handling convert the skill in difference word length"
   ]
  },
  {
   "cell_type": "markdown",
   "id": "daa26e34-fd2d-4494-ab07-4061527d6989",
   "metadata": {},
   "source": [
    "### taking the difference word length draft skill we generate, and checking when n=1 gram in job descirption, the term fruency in our word length 1 skill, only keeping the one that is bigger than 0 "
   ]
  },
  {
   "cell_type": "code",
   "execution_count": 8,
   "id": "0d8bc928-e017-4875-a15c-193c69246d61",
   "metadata": {},
   "outputs": [],
   "source": [
    "import pandas as pd \n",
    "df = pd.read_csv(\"skillset/ste_len_1.csv\")\n",
    "df2 = pd.read_csv(\"skillset/ste_len_2.csv\")\n",
    "df3 = pd.read_csv(\"skillset/ste_len_3.csv\")\n",
    "d1=df[\"0\"].values.tolist()\n",
    "d2=df2[\"0\"].values.tolist()\n",
    "d3=df3[\"0\"].values.tolist()"
   ]
  },
  {
   "cell_type": "markdown",
   "id": "83bd6cd4-e477-41a3-b278-eb9f9858ef56",
   "metadata": {},
   "source": [
    "### generating the synonyms, for the skill, which word length is one"
   ]
  },
  {
   "cell_type": "code",
   "execution_count": 9,
   "id": "7c556c6f-9796-43da-bdab-1e31df3ea682",
   "metadata": {},
   "outputs": [],
   "source": [
    "from nltk.corpus import wordnet\n",
    "synonyms1=[]\n",
    "\n",
    "for i in d1:\n",
    "    for syn in wordnet.synsets(i):\n",
    "        for l in syn.lemmas():\n",
    "            synonyms1.append(l.name())\n",
    "            \n"
   ]
  },
  {
   "cell_type": "code",
   "execution_count": 10,
   "id": "b94a4be8-5b1b-4770-a415-1d9ac6efd72f",
   "metadata": {},
   "outputs": [],
   "source": [
    "for i in range(0,len(synonyms1)):\n",
    "    synonyms1[i]=synonyms1[i].lower()\n",
    "d1=set(synonyms1)"
   ]
  },
  {
   "cell_type": "code",
   "execution_count": 11,
   "id": "25ef7b7e-9794-4492-b44a-3f722948c213",
   "metadata": {},
   "outputs": [],
   "source": [
    "SKILL1={\"1\"} #create the set \n",
    "\n",
    "count1=0;\n",
    "for i in d1:  # for each item in our word length =1 job skill\n",
    "    if i in n1:  # chekcing whether is it inside the n=1 gram job description\n",
    "        count1+=1 # if yes, adding one \n",
    "        SKILL1.add(i)   # store this value into the set\n",
    "    #print(str(i) +\"............ value is \"+ str(count1))\n",
    "    count1=0\n",
    "SKILL1.remove(\"1\")"
   ]
  },
  {
   "cell_type": "code",
   "execution_count": 12,
   "id": "e310b848-5bea-4f48-9778-c05c846a9188",
   "metadata": {},
   "outputs": [],
   "source": [
    "SKILL2={\"1\"}\n",
    "count2=0;\n",
    "for i in d2:   # for each item in our word length =2 job skill\n",
    "    if i in n2:   # chekcing whether is it inside the n=2 gram job description\n",
    "        count2+=1\n",
    "        SKILL2.add(i)    # if yes, store this value into the set\n",
    "    #print(str(i) +\"............ value is \"+ str(count2))\n",
    "    count2=0\n",
    "SKILL2.remove(\"1\")"
   ]
  },
  {
   "cell_type": "code",
   "execution_count": 13,
   "id": "a0e16a80-8674-4157-8ff2-24ec6d678f5a",
   "metadata": {},
   "outputs": [],
   "source": [
    "SKILL3={\"1\"}\n",
    "count3=0;\n",
    "for i in d3:\n",
    "    if i in n3:\n",
    "        count3+=1\n",
    "        SKILL3.add(i)\n",
    "    #print(str(i) +\"............ value is \"+ str(count3))\n",
    "    count3=0\n",
    "SKILL3.remove(\"1\")"
   ]
  },
  {
   "cell_type": "code",
   "execution_count": 14,
   "id": "1c07ff0f-9e5c-4269-bfec-ac512d354e82",
   "metadata": {},
   "outputs": [],
   "source": [
    "#len(SKILL)=106"
   ]
  },
  {
   "cell_type": "code",
   "execution_count": 15,
   "id": "f80d5595-050c-4e77-9e27-c3fa92980621",
   "metadata": {},
   "outputs": [],
   "source": [
    "## this is the list of skill matching in our draft skill set\n",
    "SKILL={\"0\"}\n",
    "for i in SKILL1:\n",
    "    SKILL.add(i)\n",
    "    \n",
    "for i in SKILL2:\n",
    "    SKILL.add(i)\n",
    "    \n",
    "for i in SKILL3:\n",
    "    SKILL.add(i)\n",
    "\n",
    "SKILL.remove(\"0\") "
   ]
  },
  {
   "cell_type": "code",
   "execution_count": 16,
   "id": "40bc6dbd-46fc-43b4-823d-a829c015d589",
   "metadata": {},
   "outputs": [
    {
     "data": {
      "text/plain": [
       "106"
      ]
     },
     "execution_count": 16,
     "metadata": {},
     "output_type": "execute_result"
    }
   ],
   "source": [
    "len(SKILL)"
   ]
  },
  {
   "cell_type": "code",
   "execution_count": 17,
   "id": "eb37a2c7-a80f-4b91-a16b-a57fd1202ea7",
   "metadata": {},
   "outputs": [
    {
     "data": {
      "image/png": "[encoded data removed]",
      "text/plain": [
       "<Figure size 432x288 with 1 Axes>"
      ]
     },
     "metadata": {
      "needs_background": "light"
     },
     "output_type": "display_data"
    },
    {
     "data": {
      "text/plain": [
       "<AxesSubplot:xlabel='Samples', ylabel='Counts'>"
      ]
     },
     "execution_count": 17,
     "metadata": {},
     "output_type": "execute_result"
    }
   ],
   "source": [
    "## we plot the below graph, in order to check which word length one skill might worth to add it in our skill \n",
    "freq = nltk.FreqDist(n1gram)\n",
    "#for key,val in freq.items():\n",
    "    #print(str(key) + ':' + str(val))\n",
    "freq.plot(20, cumulative=False)"
   ]
  },
  {
   "cell_type": "code",
   "execution_count": 18,
   "id": "0883b857-f4a0-4efb-9d2e-ce8f157d4c6c",
   "metadata": {},
   "outputs": [
    {
     "data": {
      "image/png": "[encoded data removed]",
      "text/plain": [
       "<Figure size 432x288 with 1 Axes>"
      ]
     },
     "metadata": {
      "needs_background": "light"
     },
     "output_type": "display_data"
    },
    {
     "data": {
      "text/plain": [
       "<AxesSubplot:xlabel='Samples', ylabel='Counts'>"
      ]
     },
     "execution_count": 18,
     "metadata": {},
     "output_type": "execute_result"
    }
   ],
   "source": [
    "## we plot the below graph, in order to check which word length is 2 skill might worth to add it in our skill \n",
    "freq = nltk.FreqDist(n2gram)\n",
    "#for key,val in freq.items():\n",
    "    #print(str(key) + ':' + str(val))\n",
    "freq.plot(20, cumulative=False)"
   ]
  },
  {
   "cell_type": "code",
   "execution_count": 19,
   "id": "df7a2cdb-6bb8-4748-877e-565f195d9a0c",
   "metadata": {},
   "outputs": [
    {
     "data": {
      "image/png": "[encoded data removed]",
      "text/plain": [
       "<Figure size 432x288 with 1 Axes>"
      ]
     },
     "metadata": {
      "needs_background": "light"
     },
     "output_type": "display_data"
    },
    {
     "data": {
      "text/plain": [
       "<AxesSubplot:xlabel='Samples', ylabel='Counts'>"
      ]
     },
     "execution_count": 19,
     "metadata": {},
     "output_type": "execute_result"
    }
   ],
   "source": [
    "## we plot the below graph, in order to check which word length is 3, skill might worth to add it in our skill \n",
    "freq = nltk.FreqDist(n3gram)\n",
    "#for key,val in freq.items():\n",
    "    #print(str(key) + ':' + str(val))\n",
    "freq.plot(20, cumulative=False)"
   ]
  },
  {
   "cell_type": "code",
   "execution_count": 57,
   "id": "0d402065-df15-4f31-8ba2-9a7c4df200ed",
   "metadata": {},
   "outputs": [],
   "source": [
    "# the finalize skill based on word length 1 to 3 skill\n",
    "#SKILL"
   ]
  },
  {
   "cell_type": "code",
   "execution_count": 22,
   "id": "1ad276e8-e15d-43d4-9323-d9eca1245e08",
   "metadata": {},
   "outputs": [],
   "source": [
    "# following the code is help to vislize the above three graph, checking which skill is worth to add to our skill \n",
    "#df = pd.DataFrame (n1gram, columns = ['word_length_one_skill'])\n",
    "#df.value_counts(sort=True).head(60)"
   ]
  },
  {
   "cell_type": "code",
   "execution_count": 23,
   "id": "cdffcd4d-4d12-42c3-87fe-aca1d6013550",
   "metadata": {},
   "outputs": [],
   "source": [
    "#df2 = pd.DataFrame (n2gram, columns = ['word_length_second_skill'])\n",
    "#df2.value_counts(sort=True)"
   ]
  },
  {
   "cell_type": "code",
   "execution_count": 24,
   "id": "e0ca86e6-09e8-4379-8407-d70b2ecdb721",
   "metadata": {},
   "outputs": [],
   "source": [
    "#df3 = pd.DataFrame (n3gram, columns = ['word_length_3_skill'])\n",
    "#df3.value_counts(sort=True)"
   ]
  },
  {
   "cell_type": "code",
   "execution_count": 34,
   "id": "58a3d88d-cfd9-4d7c-a8b0-d9505de066c2",
   "metadata": {},
   "outputs": [],
   "source": [
    "# transfering above graph information to the code in order prepare for the next step\n",
    "frequencies = {}\n",
    "for item in n1gram:\n",
    "    if item in frequencies:\n",
    "        frequencies[item] += 1\n",
    "    else:\n",
    "        frequencies[item] = 1\n",
    "\n",
    "frequencies1 = {}\n",
    "for item in n2gram:\n",
    "    if item in frequencies1:\n",
    "        frequencies1[item] += 1\n",
    "    else:\n",
    "        frequencies1[item] = 1\n",
    "        \n",
    "frequencies2 = {}\n",
    "for item in n3gram:\n",
    "    if item in frequencies2:\n",
    "        frequencies2[item] += 1\n",
    "    else:\n",
    "        frequencies2[item] = 1\n"
   ]
  },
  {
   "cell_type": "code",
   "execution_count": 36,
   "id": "54be983c-f2f9-4139-b43d-9f1729ae9d51",
   "metadata": {},
   "outputs": [],
   "source": [
    "q1=[]\n",
    "q2=[]"
   ]
  },
  {
   "cell_type": "code",
   "execution_count": 37,
   "id": "f51aaa90-f9e7-4276-912b-b0e63fb04915",
   "metadata": {},
   "outputs": [],
   "source": [
    "# skill1, skill2 , skill3 is the finlaize version of our skill set. following code: searching the frequiency occur in the n gram, and store the\n",
    "# the result from store it in our skill set, to define which skill is more popular \n",
    "for i in SKILL1:\n",
    "    q1.append(i)\n",
    "    q2.append(frequencies[i])\n",
    "    \n",
    "for i in SKILL2:\n",
    "    q1.append(i)\n",
    "    q2.append(frequencies1[i])\n",
    "    \n",
    "for i in SKILL3:\n",
    "    q1.append(i)\n",
    "    q2.append(frequencies2[i])"
   ]
  },
  {
   "cell_type": "code",
   "execution_count": 58,
   "id": "b4a467ee-5e61-4984-bd71-7f2f3c029097",
   "metadata": {},
   "outputs": [],
   "source": [
    "top = pd.DataFrame()\n",
    "top['word_length_1-3_skill']=q1\n",
    "top['count']=q2\n",
    "a=top.sort_values(by=['count'],ascending=False).head(30)"
   ]
  },
  {
   "cell_type": "code",
   "execution_count": 59,
   "id": "8d4e1ea4-7954-4e52-add2-02d4d9eecb6e",
   "metadata": {},
   "outputs": [
    {
     "data": {
      "text/html": [
       "<div>\n",
       "<style scoped>\n",
       "    .dataframe tbody tr th:only-of-type {\n",
       "        vertical-align: middle;\n",
       "    }\n",
       "\n",
       "    .dataframe tbody tr th {\n",
       "        vertical-align: top;\n",
       "    }\n",
       "\n",
       "    .dataframe thead th {\n",
       "        text-align: right;\n",
       "    }\n",
       "</style>\n",
       "<table border=\"1\" class=\"dataframe\">\n",
       "  <thead>\n",
       "    <tr style=\"text-align: right;\">\n",
       "      <th></th>\n",
       "      <th>word_length_1-3_skill</th>\n",
       "      <th>count</th>\n",
       "    </tr>\n",
       "  </thead>\n",
       "  <tbody>\n",
       "    <tr>\n",
       "      <th>47</th>\n",
       "      <td>market</td>\n",
       "      <td>9420</td>\n",
       "    </tr>\n",
       "    <tr>\n",
       "      <th>16</th>\n",
       "      <td>product</td>\n",
       "      <td>7112</td>\n",
       "    </tr>\n",
       "    <tr>\n",
       "      <th>26</th>\n",
       "      <td>account</td>\n",
       "      <td>5352</td>\n",
       "    </tr>\n",
       "    <tr>\n",
       "      <th>61</th>\n",
       "      <td>excel</td>\n",
       "      <td>4851</td>\n",
       "    </tr>\n",
       "    <tr>\n",
       "      <th>63</th>\n",
       "      <td>report</td>\n",
       "      <td>4260</td>\n",
       "    </tr>\n",
       "    <tr>\n",
       "      <th>54</th>\n",
       "      <td>organ</td>\n",
       "      <td>3372</td>\n",
       "    </tr>\n",
       "    <tr>\n",
       "      <th>28</th>\n",
       "      <td>sale</td>\n",
       "      <td>3157</td>\n",
       "    </tr>\n",
       "    <tr>\n",
       "      <th>86</th>\n",
       "      <td>social media</td>\n",
       "      <td>2162</td>\n",
       "    </tr>\n",
       "    <tr>\n",
       "      <th>62</th>\n",
       "      <td>email</td>\n",
       "      <td>1614</td>\n",
       "    </tr>\n",
       "    <tr>\n",
       "      <th>48</th>\n",
       "      <td>write</td>\n",
       "      <td>1293</td>\n",
       "    </tr>\n",
       "    <tr>\n",
       "      <th>69</th>\n",
       "      <td>present</td>\n",
       "      <td>1140</td>\n",
       "    </tr>\n",
       "    <tr>\n",
       "      <th>95</th>\n",
       "      <td>problem solv</td>\n",
       "      <td>981</td>\n",
       "    </tr>\n",
       "    <tr>\n",
       "      <th>67</th>\n",
       "      <td>budget</td>\n",
       "      <td>930</td>\n",
       "    </tr>\n",
       "    <tr>\n",
       "      <th>15</th>\n",
       "      <td>adapt</td>\n",
       "      <td>910</td>\n",
       "    </tr>\n",
       "    <tr>\n",
       "      <th>34</th>\n",
       "      <td>cover</td>\n",
       "      <td>875</td>\n",
       "    </tr>\n",
       "    <tr>\n",
       "      <th>72</th>\n",
       "      <td>project manag</td>\n",
       "      <td>840</td>\n",
       "    </tr>\n",
       "    <tr>\n",
       "      <th>52</th>\n",
       "      <td>submit</td>\n",
       "      <td>778</td>\n",
       "    </tr>\n",
       "    <tr>\n",
       "      <th>49</th>\n",
       "      <td>python</td>\n",
       "      <td>633</td>\n",
       "    </tr>\n",
       "    <tr>\n",
       "      <th>33</th>\n",
       "      <td>reach</td>\n",
       "      <td>627</td>\n",
       "    </tr>\n",
       "    <tr>\n",
       "      <th>46</th>\n",
       "      <td>stage</td>\n",
       "      <td>528</td>\n",
       "    </tr>\n",
       "    <tr>\n",
       "      <th>35</th>\n",
       "      <td>face</td>\n",
       "      <td>510</td>\n",
       "    </tr>\n",
       "    <tr>\n",
       "      <th>44</th>\n",
       "      <td>scope</td>\n",
       "      <td>503</td>\n",
       "    </tr>\n",
       "    <tr>\n",
       "      <th>64</th>\n",
       "      <td>give</td>\n",
       "      <td>476</td>\n",
       "    </tr>\n",
       "    <tr>\n",
       "      <th>80</th>\n",
       "      <td>time manag</td>\n",
       "      <td>459</td>\n",
       "    </tr>\n",
       "    <tr>\n",
       "      <th>56</th>\n",
       "      <td>teamwork</td>\n",
       "      <td>434</td>\n",
       "    </tr>\n",
       "    <tr>\n",
       "      <th>21</th>\n",
       "      <td>bill</td>\n",
       "      <td>386</td>\n",
       "    </tr>\n",
       "    <tr>\n",
       "      <th>32</th>\n",
       "      <td>award</td>\n",
       "      <td>337</td>\n",
       "    </tr>\n",
       "    <tr>\n",
       "      <th>12</th>\n",
       "      <td>mindset</td>\n",
       "      <td>321</td>\n",
       "    </tr>\n",
       "    <tr>\n",
       "      <th>17</th>\n",
       "      <td>show</td>\n",
       "      <td>320</td>\n",
       "    </tr>\n",
       "    <tr>\n",
       "      <th>60</th>\n",
       "      <td>cpr</td>\n",
       "      <td>319</td>\n",
       "    </tr>\n",
       "  </tbody>\n",
       "</table>\n",
       "</div>"
      ],
      "text/plain": [
       "   word_length_1-3_skill  count\n",
       "47                market   9420\n",
       "16               product   7112\n",
       "26               account   5352\n",
       "61                 excel   4851\n",
       "63                report   4260\n",
       "54                 organ   3372\n",
       "28                  sale   3157\n",
       "86          social media   2162\n",
       "62                 email   1614\n",
       "48                 write   1293\n",
       "69               present   1140\n",
       "95          problem solv    981\n",
       "67                budget    930\n",
       "15                 adapt    910\n",
       "34                 cover    875\n",
       "72         project manag    840\n",
       "52                submit    778\n",
       "49                python    633\n",
       "33                 reach    627\n",
       "46                 stage    528\n",
       "35                  face    510\n",
       "44                 scope    503\n",
       "64                  give    476\n",
       "80            time manag    459\n",
       "56              teamwork    434\n",
       "21                  bill    386\n",
       "32                 award    337\n",
       "12               mindset    321\n",
       "17                  show    320\n",
       "60                   cpr    319"
      ]
     },
     "execution_count": 59,
     "metadata": {},
     "output_type": "execute_result"
    }
   ],
   "source": [
    "a"
   ]
  },
  {
   "cell_type": "code",
   "execution_count": 61,
   "id": "77ea2f1a-dc12-4af1-baa0-285f1d2d5445",
   "metadata": {},
   "outputs": [
    {
     "data": {
      "image/png": "[encoded data removed]",
      "text/plain": [
       "<Figure size 432x288 with 1 Axes>"
      ]
     },
     "metadata": {
      "needs_background": "light"
     },
     "output_type": "display_data"
    }
   ],
   "source": [
    "ax = a.plot.bar(x='word_length_1-3_skill', y='count')"
   ]
  },
  {
   "cell_type": "code",
   "execution_count": null,
   "id": "164b914a-a8b1-4f8f-9de5-db92d1dd47f3",
   "metadata": {},
   "outputs": [],
   "source": []
  }
 ],
 "metadata": {
  "kernelspec": {
   "display_name": "Python 3 (ipykernel)",
   "language": "python",
   "name": "python3"
  },
  "language_info": {
   "codemirror_mode": {
    "name": "ipython",
    "version": 3
   },
   "file_extension": ".py",
   "mimetype": "text/x-python",
   "name": "python",
   "nbconvert_exporter": "python",
   "pygments_lexer": "ipython3",
   "version": "3.9.7"
  }
 },
 "nbformat": 4,
 "nbformat_minor": 5
}
