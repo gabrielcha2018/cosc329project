{
 "cells": [
  {
   "cell_type": "code",
   "execution_count": null,
   "id": "2b72f12a-cc48-4b21-ba55-dee2a82854fe",
   "metadata": {},
   "outputs": [],
   "source": [
    "import requests\n",
    "from bs4 import BeautifulSoup\n",
    "import time \n",
    "import random\n",
    "import pandas as pd \n",
    "\n",
    "df = pd.DataFrame(columns=[\"Title\",\"Description\"])\n",
    "\n",
    "u1=[ \n",
    "  'Mozilla/5.0 (iPad; CPU OS 6_0 like Mac OS X) AppleWebKit/536.26 (KHTML, like Gecko) Version/6.0 Mobile/10A5355d Safari/8536.25',\n",
    "  'Mozilla/5.0 (Windows NT 6.2; Win64; x64; rv:16.0.1) Gecko/20121011 Firefox/16.0.1',\n",
    "  'Mozilla/5.0 (Windows; U; MSIE 9.0; Windows NT 9.0; en-US);',\n",
    "  'Mozilla/5.0 (Windows; U; MSIE 9.0; Windows NT 9.0; en-US);',\n",
    "  'Mozilla/5.0 (compatible; MSIE 10.0; Macintosh; Intel Mac OS X 10_7_3; Trident/6.0)',\n",
    "  'Mozilla/5.0 (compatible; MSIE 8.0; Windows NT 6.1; Trident/4.0; GTB7.4; InfoPath.2; SV1; .NET CLR 3.3.69573; WOW64; en-US)',\n",
    "  'Opera/9.80 (X11; Linux i686; U; ru) Presto/2.8.131 Version/11.11',\n",
    "  'Mozilla/5.0 (Windows NT 6.1) AppleWebKit/537.2 (KHTML, like Gecko) Chrome/22.0.1216.0 Safari/537.2',\n",
    "  'Mozilla/5.0 (Macintosh; Intel Mac OS X 10_7_4) AppleWebKit/537.13 (KHTML, like Gecko) Chrome/24.0.1290.1 Safari/537.13',\n",
    "  'Mozilla/5.0 (X11; CrOS i686 2268.111.0) AppleWebKit/536.11 (KHTML, like Gecko) Chrome/20.0.1132.57 Safari/536.11',\n",
    "  'Mozilla/5.0 (X11; Ubuntu; Linux i686; rv:15.0) Gecko/20100101 Firefox/15.0.1'   ]\n",
    "\n",
    "#rendom pickup the header\n",
    "headers = { \"User-Agent\": random.choice(u1)}   \n",
    "\n",
    "\n",
    "for i in range(760,811,10):\n",
    "    time.sleep(5)\n",
    "    \n",
    "    url=' https://ca.indeed.com/jobs?q=Digital%20Marketing&l=canada&start='+str(i);\n",
    "   # url='https://ca.indeed.com/jobs?q=cashier&l=Canada&start='+str(i);\n",
    "\n",
    "#url = \"https://ca.indeed.com/jobs?q=Computer%20Programmer&l=canada&start=0\"\n",
    "    api_url = \"https://www.indeed.com/viewjob?viewtype=embedded&jk={job_id}\"\n",
    "\n",
    "    soup = BeautifulSoup(requests.get(url, headers=headers).content, \"html.parser\")\n",
    "\n",
    "    for job in soup.select('a[id^=\"job_\"]'):\n",
    "        job_id = job[\"id\"].split(\"_\")[-1]\n",
    "        s = BeautifulSoup(\n",
    "                 requests.get(api_url.format(job_id=job_id), headers=headers).content,\n",
    "                 \"html.parser\",\n",
    "            )\n",
    "\n",
    "        title= s.title.get_text(strip=True)   \n",
    "    \n",
    "        job_desc=s.select_one(\"#jobDescriptionText\").get_text(strip=True, separator=\"\\n\")\n",
    "        df = df.append({'Title':title,\"Description\":job_desc},ignore_index=True)\n",
    "            \n",
    "df.to_csv('d1.csv', index=False) \n",
    "df\n",
    "print(\"finish\")"
   ]
  },
  {
   "cell_type": "code",
   "execution_count": null,
   "id": "168bc7fb-78ba-4498-a629-2be8f6a8b6fd",
   "metadata": {},
   "outputs": [],
   "source": [
    "df"
   ]
  },
  {
   "cell_type": "code",
   "execution_count": null,
   "id": "be955459-64a8-438f-b30b-34c427610621",
   "metadata": {},
   "outputs": [],
   "source": []
  }
 ],
 "metadata": {
  "kernelspec": {
   "display_name": "Python 3 (ipykernel)",
   "language": "python",
   "name": "python3"
  },
  "language_info": {
   "codemirror_mode": {
    "name": "ipython",
    "version": 3
   },
   "file_extension": ".py",
   "mimetype": "text/x-python",
   "name": "python",
   "nbconvert_exporter": "python",
   "pygments_lexer": "ipython3",
   "version": "3.9.7"
  }
 },
 "nbformat": 4,
 "nbformat_minor": 5
}
